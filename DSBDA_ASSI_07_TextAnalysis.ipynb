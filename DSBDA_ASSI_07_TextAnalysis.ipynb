{
  "nbformat": 4,
  "nbformat_minor": 0,
  "metadata": {
    "colab": {
      "name": "TECOA136_Assignment_07_DSBDA.ipynb",
      "provenance": [],
      "collapsed_sections": []
    },
    "kernelspec": {
      "name": "python3",
      "display_name": "Python 3"
    },
    "language_info": {
      "name": "python"
    }
  },
  "cells": [
    {
      "cell_type": "code",
      "execution_count": 2,
      "metadata": {
        "id": "iXRGX51HmrXu"
      },
      "outputs": [],
      "source": [
        "import nltk"
      ]
    },
    {
      "cell_type": "code",
      "source": [
        "nltk.download('gutenberg')"
      ],
      "metadata": {
        "colab": {
          "base_uri": "https://localhost:8080/"
        },
        "id": "HJsu4laKpBeh",
        "outputId": "1cff1432-2728-449b-9641-a9ff57c5646f"
      },
      "execution_count": 4,
      "outputs": [
        {
          "output_type": "stream",
          "name": "stdout",
          "text": [
            "[nltk_data] Downloading package gutenberg to /root/nltk_data...\n",
            "[nltk_data]   Unzipping corpora/gutenberg.zip.\n"
          ]
        },
        {
          "output_type": "execute_result",
          "data": {
            "text/plain": [
              "True"
            ]
          },
          "metadata": {},
          "execution_count": 4
        }
      ]
    },
    {
      "cell_type": "code",
      "source": [
        "nltk.corpus.gutenberg.fileids()"
      ],
      "metadata": {
        "colab": {
          "base_uri": "https://localhost:8080/"
        },
        "id": "GFHTBw_UpaFc",
        "outputId": "ec4c8f30-57fb-4034-a2b9-bc3fe13c2026"
      },
      "execution_count": 5,
      "outputs": [
        {
          "output_type": "execute_result",
          "data": {
            "text/plain": [
              "['austen-emma.txt',\n",
              " 'austen-persuasion.txt',\n",
              " 'austen-sense.txt',\n",
              " 'bible-kjv.txt',\n",
              " 'blake-poems.txt',\n",
              " 'bryant-stories.txt',\n",
              " 'burgess-busterbrown.txt',\n",
              " 'carroll-alice.txt',\n",
              " 'chesterton-ball.txt',\n",
              " 'chesterton-brown.txt',\n",
              " 'chesterton-thursday.txt',\n",
              " 'edgeworth-parents.txt',\n",
              " 'melville-moby_dick.txt',\n",
              " 'milton-paradise.txt',\n",
              " 'shakespeare-caesar.txt',\n",
              " 'shakespeare-hamlet.txt',\n",
              " 'shakespeare-macbeth.txt',\n",
              " 'whitman-leaves.txt']"
            ]
          },
          "metadata": {},
          "execution_count": 5
        }
      ]
    },
    {
      "cell_type": "code",
      "source": [
        "emma = nltk.corpus.gutenberg.words('austen-emma.txt')"
      ],
      "metadata": {
        "id": "5B5ZwRfMpjLm"
      },
      "execution_count": 6,
      "outputs": []
    },
    {
      "cell_type": "code",
      "source": [
        "type(emma)"
      ],
      "metadata": {
        "colab": {
          "base_uri": "https://localhost:8080/"
        },
        "id": "oNUd4fKfpmSQ",
        "outputId": "51b2d98d-3095-4805-da44-4e5b7708d456"
      },
      "execution_count": 7,
      "outputs": [
        {
          "output_type": "execute_result",
          "data": {
            "text/plain": [
              "nltk.corpus.reader.util.StreamBackedCorpusView"
            ]
          },
          "metadata": {},
          "execution_count": 7
        }
      ]
    },
    {
      "cell_type": "code",
      "source": [
        "emma"
      ],
      "metadata": {
        "colab": {
          "base_uri": "https://localhost:8080/"
        },
        "id": "PcNXkx58pnl5",
        "outputId": "97753c98-4b50-4823-a512-90861d2d9a86"
      },
      "execution_count": 8,
      "outputs": [
        {
          "output_type": "execute_result",
          "data": {
            "text/plain": [
              "['[', 'Emma', 'by', 'Jane', 'Austen', '1816', ']', ...]"
            ]
          },
          "metadata": {},
          "execution_count": 8
        }
      ]
    },
    {
      "cell_type": "code",
      "source": [
        ""
      ],
      "metadata": {
        "colab": {
          "base_uri": "https://localhost:8080/"
        },
        "id": "PmXMZf8SppyS",
        "outputId": "2a6fdc48-29ea-484e-be48-25e3e7de0e03"
      },
      "execution_count": 9,
      "outputs": [
        {
          "output_type": "stream",
          "name": "stdout",
          "text": [
            "['[', 'Emma', 'by', 'Jane', 'Austen', '1816', ']', ...]\n"
          ]
        }
      ]
    },
    {
      "cell_type": "code",
      "source": [
        "inputStr = \"THE WEEK BEFORE I left my family and Florida and the rest of my minor life to go to boarding school in Alabama, my mother insisted on throwing me a going-away party. To say that I had low expectations would be to underestimate the matter dramatically. Although I was more or less forced to invite all my “school friends,” i.e., the ragtag bunch of drama people and English geeks I sat with by social necessity in the cavernous cafeteria of my public school, I knew they wouldn’t come. Still, my mother persevered, awash in the delusion that I had kept my popularity secret from her all these years. She cooked a small mountain of artichoke dip. She festooned our living room in green and yellow streamers, the colors of my new school. She bought two dozen champagne poppers and placed them around the edge of our coffee table. And when that final Friday came, when my packing was mostly done, she sat with my dad and me on the living-room couch at 4:56 P.M. and patiently awaited the arrival of the Good-bye to Miles Cavalry. Said cavalry consisted of exactly two people: Marie Law-son, a tiny blonde with rectangular glasses, and her chunky (to put it charitably) boyfriend, Will. “Hey, Miles,” Marie said as she sat down. “Hey,” I said. “How was your summer?” Will asked. “Okay. Yours?” “Good. We did Jesus Christ Superstar. I helped with the sets. Marie did lights,” said Will. “That’s cool.” I nodded knowingly, and that about exhausted our conversational topics. I might have asked a question about Jesus Christ Superstar, except that 1. I didn’t know what it was, and 2. I didn’t care to learn, and 3. I never really excelled at small talk. My mom, however, can talk small for hours, and so she extended the awkwardness by asking them about their rehearsal schedule, and how the show had gone, and whether it was a success. “I guess it was,” Marie said. “A lot of people came, I guess.” Marie was the sort of person to guess a lot. Finally, Will said, “Well, we just dropped by to say good-bye. I’ve got to get Marie home by six. Have fun at boarding school, Miles.” \""
      ],
      "metadata": {
        "id": "VzOzGxMFp_0Q"
      },
      "execution_count": 12,
      "outputs": []
    },
    {
      "cell_type": "code",
      "source": [
        "inputStr = inputStr.lower()\n",
        "print(inputStr)"
      ],
      "metadata": {
        "colab": {
          "base_uri": "https://localhost:8080/"
        },
        "id": "BDC-7n_OrDDU",
        "outputId": "3191c4a8-99e3-4d89-915f-04e0e954987a"
      },
      "execution_count": 13,
      "outputs": [
        {
          "output_type": "stream",
          "name": "stdout",
          "text": [
            "the week before i left my family and florida and the rest of my minor life to go to boarding school in alabama, my mother insisted on throwing me a going-away party. to say that i had low expectations would be to underestimate the matter dramatically. although i was more or less forced to invite all my “school friends,” i.e., the ragtag bunch of drama people and english geeks i sat with by social necessity in the cavernous cafeteria of my public school, i knew they wouldn’t come. still, my mother persevered, awash in the delusion that i had kept my popularity secret from her all these years. she cooked a small mountain of artichoke dip. she festooned our living room in green and yellow streamers, the colors of my new school. she bought two dozen champagne poppers and placed them around the edge of our coffee table. and when that final friday came, when my packing was mostly done, she sat with my dad and me on the living-room couch at 4:56 p.m. and patiently awaited the arrival of the good-bye to miles cavalry. said cavalry consisted of exactly two people: marie law-son, a tiny blonde with rectangular glasses, and her chunky (to put it charitably) boyfriend, will. “hey, miles,” marie said as she sat down. “hey,” i said. “how was your summer?” will asked. “okay. yours?” “good. we did jesus christ superstar. i helped with the sets. marie did lights,” said will. “that’s cool.” i nodded knowingly, and that about exhausted our conversational topics. i might have asked a question about jesus christ superstar, except that 1. i didn’t know what it was, and 2. i didn’t care to learn, and 3. i never really excelled at small talk. my mom, however, can talk small for hours, and so she extended the awkwardness by asking them about their rehearsal schedule, and how the show had gone, and whether it was a success. “i guess it was,” marie said. “a lot of people came, i guess.” marie was the sort of person to guess a lot. finally, will said, “well, we just dropped by to say good-bye. i’ve got to get marie home by six. have fun at boarding school, miles.” \n"
          ]
        }
      ]
    },
    {
      "cell_type": "code",
      "source": [
        "#Removing numbers from the sentence\n",
        "import re\n",
        "inputStr = re.sub(r'\\d+', 'aaa', inputStr)\n",
        "print(inputStr)"
      ],
      "metadata": {
        "colab": {
          "base_uri": "https://localhost:8080/"
        },
        "id": "4o7LA--orRA1",
        "outputId": "bb268746-82f6-46b9-869f-245e9d21b18b"
      },
      "execution_count": 16,
      "outputs": [
        {
          "output_type": "stream",
          "name": "stdout",
          "text": [
            "the week before i left my family and florida and the rest of my minor life to go to boarding school in alabama, my mother insisted on throwing me a going-away party. to say that i had low expectations would be to underestimate the matter dramatically. although i was more or less forced to invite all my “school friends,” i.e., the ragtag bunch of drama people and english geeks i sat with by social necessity in the cavernous cafeteria of my public school, i knew they wouldn’t come. still, my mother persevered, awash in the delusion that i had kept my popularity secret from her all these years. she cooked a small mountain of artichoke dip. she festooned our living room in green and yellow streamers, the colors of my new school. she bought two dozen champagne poppers and placed them around the edge of our coffee table. and when that final friday came, when my packing was mostly done, she sat with my dad and me on the living-room couch at aaa:aaa p.m. and patiently awaited the arrival of the good-bye to miles cavalry. said cavalry consisted of exactly two people: marie law-son, a tiny blonde with rectangular glasses, and her chunky (to put it charitably) boyfriend, will. “hey, miles,” marie said as she sat down. “hey,” i said. “how was your summer?” will asked. “okay. yours?” “good. we did jesus christ superstar. i helped with the sets. marie did lights,” said will. “that’s cool.” i nodded knowingly, and that about exhausted our conversational topics. i might have asked a question about jesus christ superstar, except that aaa. i didn’t know what it was, and aaa. i didn’t care to learn, and aaa. i never really excelled at small talk. my mom, however, can talk small for hours, and so she extended the awkwardness by asking them about their rehearsal schedule, and how the show had gone, and whether it was a success. “i guess it was,” marie said. “a lot of people came, i guess.” marie was the sort of person to guess a lot. finally, will said, “well, we just dropped by to say good-bye. i’ve got to get marie home by six. have fun at boarding school, miles.” \n"
          ]
        }
      ]
    },
    {
      "cell_type": "code",
      "source": [
        "#remove punctuation\n",
        "import string\n",
        "inputStr = re.sub(r'[^\\w\\s]','',inputStr)\n",
        "print(inputStr)"
      ],
      "metadata": {
        "colab": {
          "base_uri": "https://localhost:8080/"
        },
        "id": "FdjbwYt3rVaY",
        "outputId": "63cb5ff0-1c53-48b0-d2d1-2a488e330810"
      },
      "execution_count": 17,
      "outputs": [
        {
          "output_type": "stream",
          "name": "stdout",
          "text": [
            "the week before i left my family and florida and the rest of my minor life to go to boarding school in alabama my mother insisted on throwing me a goingaway party to say that i had low expectations would be to underestimate the matter dramatically although i was more or less forced to invite all my school friends ie the ragtag bunch of drama people and english geeks i sat with by social necessity in the cavernous cafeteria of my public school i knew they wouldnt come still my mother persevered awash in the delusion that i had kept my popularity secret from her all these years she cooked a small mountain of artichoke dip she festooned our living room in green and yellow streamers the colors of my new school she bought two dozen champagne poppers and placed them around the edge of our coffee table and when that final friday came when my packing was mostly done she sat with my dad and me on the livingroom couch at aaaaaa pm and patiently awaited the arrival of the goodbye to miles cavalry said cavalry consisted of exactly two people marie lawson a tiny blonde with rectangular glasses and her chunky to put it charitably boyfriend will hey miles marie said as she sat down hey i said how was your summer will asked okay yours good we did jesus christ superstar i helped with the sets marie did lights said will thats cool i nodded knowingly and that about exhausted our conversational topics i might have asked a question about jesus christ superstar except that aaa i didnt know what it was and aaa i didnt care to learn and aaa i never really excelled at small talk my mom however can talk small for hours and so she extended the awkwardness by asking them about their rehearsal schedule and how the show had gone and whether it was a success i guess it was marie said a lot of people came i guess marie was the sort of person to guess a lot finally will said well we just dropped by to say goodbye ive got to get marie home by six have fun at boarding school miles \n"
          ]
        }
      ]
    },
    {
      "cell_type": "code",
      "source": [
        "#remove whitespaces\n",
        "inputStr = inputStr.strip()\n",
        "print(inputStr)"
      ],
      "metadata": {
        "colab": {
          "base_uri": "https://localhost:8080/"
        },
        "id": "JLt38FUNrtXT",
        "outputId": "9af06a25-7945-4f56-eaf8-bbc71f032049"
      },
      "execution_count": 18,
      "outputs": [
        {
          "output_type": "stream",
          "name": "stdout",
          "text": [
            "the week before i left my family and florida and the rest of my minor life to go to boarding school in alabama my mother insisted on throwing me a goingaway party to say that i had low expectations would be to underestimate the matter dramatically although i was more or less forced to invite all my school friends ie the ragtag bunch of drama people and english geeks i sat with by social necessity in the cavernous cafeteria of my public school i knew they wouldnt come still my mother persevered awash in the delusion that i had kept my popularity secret from her all these years she cooked a small mountain of artichoke dip she festooned our living room in green and yellow streamers the colors of my new school she bought two dozen champagne poppers and placed them around the edge of our coffee table and when that final friday came when my packing was mostly done she sat with my dad and me on the livingroom couch at aaaaaa pm and patiently awaited the arrival of the goodbye to miles cavalry said cavalry consisted of exactly two people marie lawson a tiny blonde with rectangular glasses and her chunky to put it charitably boyfriend will hey miles marie said as she sat down hey i said how was your summer will asked okay yours good we did jesus christ superstar i helped with the sets marie did lights said will thats cool i nodded knowingly and that about exhausted our conversational topics i might have asked a question about jesus christ superstar except that aaa i didnt know what it was and aaa i didnt care to learn and aaa i never really excelled at small talk my mom however can talk small for hours and so she extended the awkwardness by asking them about their rehearsal schedule and how the show had gone and whether it was a success i guess it was marie said a lot of people came i guess marie was the sort of person to guess a lot finally will said well we just dropped by to say goodbye ive got to get marie home by six have fun at boarding school miles\n"
          ]
        }
      ]
    },
    {
      "cell_type": "code",
      "source": [
        "#stopwords removal\n",
        "import nltk\n",
        "nltk.download('stopwords')\n",
        "nltk.download('punkt')\n",
        "from nltk.corpus import stopwords\n",
        "stop_words = set(stopwords.words('english'))\n",
        "print(stop_words)"
      ],
      "metadata": {
        "colab": {
          "base_uri": "https://localhost:8080/"
        },
        "id": "gnd_NGpcsJFK",
        "outputId": "2b107aae-eb2b-49c4-b8fc-80012bfc4cce"
      },
      "execution_count": 19,
      "outputs": [
        {
          "output_type": "stream",
          "name": "stdout",
          "text": [
            "[nltk_data] Downloading package stopwords to /root/nltk_data...\n",
            "[nltk_data]   Unzipping corpora/stopwords.zip.\n",
            "[nltk_data] Downloading package punkt to /root/nltk_data...\n",
            "[nltk_data]   Unzipping tokenizers/punkt.zip.\n",
            "{'too', 'more', 'the', \"mustn't\", \"you'll\", 'should', \"won't\", 'hadn', 'mustn', 'she', 'were', 'have', \"aren't\", 'be', 'to', 'wouldn', 'most', 'through', 'between', 'until', 'herself', 'there', 'them', 'or', 'each', 'haven', 'that', 'yourselves', \"weren't\", \"shouldn't\", 'if', 'few', 'not', 'you', 'and', 'y', 'hasn', \"doesn't\", 'can', 'having', 'what', 'from', 'above', 'hers', \"hasn't\", 'with', 'where', 'how', 've', 'against', 'other', 'her', 'll', 'm', 'd', 'was', 'no', 'before', 'down', 'himself', \"should've\", \"she's\", 'itself', 'don', 'why', 'his', 'it', 'ours', 'below', 'such', 'he', \"wasn't\", 'about', \"shan't\", 'again', 'under', 'over', 'we', 'yourself', 'than', 'ourselves', 'being', 'nor', 't', \"you'd\", 'your', 'my', 'on', 'in', 'out', 'will', 'now', \"couldn't\", \"wouldn't\", 'further', \"needn't\", 'mightn', 'some', 'its', \"didn't\", 'both', 'their', 'ain', 'while', \"it's\", 'by', 'an', 'off', 'won', 'theirs', 'shan', 'at', 'any', 'which', 'ma', 'just', 'this', \"that'll\", 'only', 'couldn', 'themselves', 'been', 'myself', \"hadn't\", 'has', 'doing', 'for', 'because', 'once', 's', 'didn', 'here', 'needn', 'into', 're', 'are', \"isn't\", 'weren', 'i', 'during', 'very', 'o', 'did', 'aren', \"mightn't\", 'am', \"you're\", 'does', 'as', 'doesn', 'our', 'do', 'own', 'him', 'wasn', 'me', 'is', 'a', 'up', 'all', 'had', 'these', 'same', 'who', 'of', 'when', \"don't\", 'yours', \"you've\", 'so', 'isn', 'shouldn', 'whom', 'then', 'they', 'after', 'but', \"haven't\", 'those'}\n"
          ]
        }
      ]
    },
    {
      "cell_type": "code",
      "source": [
        "#Step 1: Tokenize\n",
        "#Step 2: Remove Stopwords from token array\n",
        "\n",
        "#Step 1:\n",
        "from nltk.tokenize import word_tokenize\n",
        "tokens = word_tokenize(inputStr)\n",
        "print(tokens)\n",
        "\n",
        "\n",
        "#Step 2:\n",
        "result = [i for i in tokens if not i in stop_words]\n",
        "print(result)"
      ],
      "metadata": {
        "colab": {
          "base_uri": "https://localhost:8080/"
        },
        "id": "izKoNo0Rsu2n",
        "outputId": "00e2e960-0743-4db8-a0b5-a78ca90a2140"
      },
      "execution_count": 20,
      "outputs": [
        {
          "output_type": "stream",
          "name": "stdout",
          "text": [
            "['the', 'week', 'before', 'i', 'left', 'my', 'family', 'and', 'florida', 'and', 'the', 'rest', 'of', 'my', 'minor', 'life', 'to', 'go', 'to', 'boarding', 'school', 'in', 'alabama', 'my', 'mother', 'insisted', 'on', 'throwing', 'me', 'a', 'goingaway', 'party', 'to', 'say', 'that', 'i', 'had', 'low', 'expectations', 'would', 'be', 'to', 'underestimate', 'the', 'matter', 'dramatically', 'although', 'i', 'was', 'more', 'or', 'less', 'forced', 'to', 'invite', 'all', 'my', 'school', 'friends', 'ie', 'the', 'ragtag', 'bunch', 'of', 'drama', 'people', 'and', 'english', 'geeks', 'i', 'sat', 'with', 'by', 'social', 'necessity', 'in', 'the', 'cavernous', 'cafeteria', 'of', 'my', 'public', 'school', 'i', 'knew', 'they', 'wouldnt', 'come', 'still', 'my', 'mother', 'persevered', 'awash', 'in', 'the', 'delusion', 'that', 'i', 'had', 'kept', 'my', 'popularity', 'secret', 'from', 'her', 'all', 'these', 'years', 'she', 'cooked', 'a', 'small', 'mountain', 'of', 'artichoke', 'dip', 'she', 'festooned', 'our', 'living', 'room', 'in', 'green', 'and', 'yellow', 'streamers', 'the', 'colors', 'of', 'my', 'new', 'school', 'she', 'bought', 'two', 'dozen', 'champagne', 'poppers', 'and', 'placed', 'them', 'around', 'the', 'edge', 'of', 'our', 'coffee', 'table', 'and', 'when', 'that', 'final', 'friday', 'came', 'when', 'my', 'packing', 'was', 'mostly', 'done', 'she', 'sat', 'with', 'my', 'dad', 'and', 'me', 'on', 'the', 'livingroom', 'couch', 'at', 'aaaaaa', 'pm', 'and', 'patiently', 'awaited', 'the', 'arrival', 'of', 'the', 'goodbye', 'to', 'miles', 'cavalry', 'said', 'cavalry', 'consisted', 'of', 'exactly', 'two', 'people', 'marie', 'lawson', 'a', 'tiny', 'blonde', 'with', 'rectangular', 'glasses', 'and', 'her', 'chunky', 'to', 'put', 'it', 'charitably', 'boyfriend', 'will', 'hey', 'miles', 'marie', 'said', 'as', 'she', 'sat', 'down', 'hey', 'i', 'said', 'how', 'was', 'your', 'summer', 'will', 'asked', 'okay', 'yours', 'good', 'we', 'did', 'jesus', 'christ', 'superstar', 'i', 'helped', 'with', 'the', 'sets', 'marie', 'did', 'lights', 'said', 'will', 'thats', 'cool', 'i', 'nodded', 'knowingly', 'and', 'that', 'about', 'exhausted', 'our', 'conversational', 'topics', 'i', 'might', 'have', 'asked', 'a', 'question', 'about', 'jesus', 'christ', 'superstar', 'except', 'that', 'aaa', 'i', 'didnt', 'know', 'what', 'it', 'was', 'and', 'aaa', 'i', 'didnt', 'care', 'to', 'learn', 'and', 'aaa', 'i', 'never', 'really', 'excelled', 'at', 'small', 'talk', 'my', 'mom', 'however', 'can', 'talk', 'small', 'for', 'hours', 'and', 'so', 'she', 'extended', 'the', 'awkwardness', 'by', 'asking', 'them', 'about', 'their', 'rehearsal', 'schedule', 'and', 'how', 'the', 'show', 'had', 'gone', 'and', 'whether', 'it', 'was', 'a', 'success', 'i', 'guess', 'it', 'was', 'marie', 'said', 'a', 'lot', 'of', 'people', 'came', 'i', 'guess', 'marie', 'was', 'the', 'sort', 'of', 'person', 'to', 'guess', 'a', 'lot', 'finally', 'will', 'said', 'well', 'we', 'just', 'dropped', 'by', 'to', 'say', 'goodbye', 'ive', 'got', 'to', 'get', 'marie', 'home', 'by', 'six', 'have', 'fun', 'at', 'boarding', 'school', 'miles']\n",
            "['week', 'left', 'family', 'florida', 'rest', 'minor', 'life', 'go', 'boarding', 'school', 'alabama', 'mother', 'insisted', 'throwing', 'goingaway', 'party', 'say', 'low', 'expectations', 'would', 'underestimate', 'matter', 'dramatically', 'although', 'less', 'forced', 'invite', 'school', 'friends', 'ie', 'ragtag', 'bunch', 'drama', 'people', 'english', 'geeks', 'sat', 'social', 'necessity', 'cavernous', 'cafeteria', 'public', 'school', 'knew', 'wouldnt', 'come', 'still', 'mother', 'persevered', 'awash', 'delusion', 'kept', 'popularity', 'secret', 'years', 'cooked', 'small', 'mountain', 'artichoke', 'dip', 'festooned', 'living', 'room', 'green', 'yellow', 'streamers', 'colors', 'new', 'school', 'bought', 'two', 'dozen', 'champagne', 'poppers', 'placed', 'around', 'edge', 'coffee', 'table', 'final', 'friday', 'came', 'packing', 'mostly', 'done', 'sat', 'dad', 'livingroom', 'couch', 'aaaaaa', 'pm', 'patiently', 'awaited', 'arrival', 'goodbye', 'miles', 'cavalry', 'said', 'cavalry', 'consisted', 'exactly', 'two', 'people', 'marie', 'lawson', 'tiny', 'blonde', 'rectangular', 'glasses', 'chunky', 'put', 'charitably', 'boyfriend', 'hey', 'miles', 'marie', 'said', 'sat', 'hey', 'said', 'summer', 'asked', 'okay', 'good', 'jesus', 'christ', 'superstar', 'helped', 'sets', 'marie', 'lights', 'said', 'thats', 'cool', 'nodded', 'knowingly', 'exhausted', 'conversational', 'topics', 'might', 'asked', 'question', 'jesus', 'christ', 'superstar', 'except', 'aaa', 'didnt', 'know', 'aaa', 'didnt', 'care', 'learn', 'aaa', 'never', 'really', 'excelled', 'small', 'talk', 'mom', 'however', 'talk', 'small', 'hours', 'extended', 'awkwardness', 'asking', 'rehearsal', 'schedule', 'show', 'gone', 'whether', 'success', 'guess', 'marie', 'said', 'lot', 'people', 'came', 'guess', 'marie', 'sort', 'person', 'guess', 'lot', 'finally', 'said', 'well', 'dropped', 'say', 'goodbye', 'ive', 'got', 'get', 'marie', 'home', 'six', 'fun', 'boarding', 'school', 'miles']\n"
          ]
        }
      ]
    },
    {
      "cell_type": "code",
      "source": [
        "#Stemming using NLTK\n",
        "from nltk.stem import PorterStemmer\n",
        "from nltk.tokenize import word_tokenize\n",
        "stemmer = PorterStemmer()\n",
        "inputStrTokens = word_tokenize(inputStr)\n",
        "for token in inputStrTokens:\n",
        "  print(stemmer.stem(token))"
      ],
      "metadata": {
        "colab": {
          "base_uri": "https://localhost:8080/"
        },
        "id": "boMNtrePtU0E",
        "outputId": "f4ae018b-2035-432d-8dcd-766ff1b88de4"
      },
      "execution_count": 24,
      "outputs": [
        {
          "output_type": "stream",
          "name": "stdout",
          "text": [
            "the\n",
            "week\n",
            "befor\n",
            "i\n",
            "left\n",
            "my\n",
            "famili\n",
            "and\n",
            "florida\n",
            "and\n",
            "the\n",
            "rest\n",
            "of\n",
            "my\n",
            "minor\n",
            "life\n",
            "to\n",
            "go\n",
            "to\n",
            "board\n",
            "school\n",
            "in\n",
            "alabama\n",
            "my\n",
            "mother\n",
            "insist\n",
            "on\n",
            "throw\n",
            "me\n",
            "a\n",
            "goingaway\n",
            "parti\n",
            "to\n",
            "say\n",
            "that\n",
            "i\n",
            "had\n",
            "low\n",
            "expect\n",
            "would\n",
            "be\n",
            "to\n",
            "underestim\n",
            "the\n",
            "matter\n",
            "dramat\n",
            "although\n",
            "i\n",
            "wa\n",
            "more\n",
            "or\n",
            "less\n",
            "forc\n",
            "to\n",
            "invit\n",
            "all\n",
            "my\n",
            "school\n",
            "friend\n",
            "ie\n",
            "the\n",
            "ragtag\n",
            "bunch\n",
            "of\n",
            "drama\n",
            "peopl\n",
            "and\n",
            "english\n",
            "geek\n",
            "i\n",
            "sat\n",
            "with\n",
            "by\n",
            "social\n",
            "necess\n",
            "in\n",
            "the\n",
            "cavern\n",
            "cafeteria\n",
            "of\n",
            "my\n",
            "public\n",
            "school\n",
            "i\n",
            "knew\n",
            "they\n",
            "wouldnt\n",
            "come\n",
            "still\n",
            "my\n",
            "mother\n",
            "persev\n",
            "awash\n",
            "in\n",
            "the\n",
            "delus\n",
            "that\n",
            "i\n",
            "had\n",
            "kept\n",
            "my\n",
            "popular\n",
            "secret\n",
            "from\n",
            "her\n",
            "all\n",
            "these\n",
            "year\n",
            "she\n",
            "cook\n",
            "a\n",
            "small\n",
            "mountain\n",
            "of\n",
            "artichok\n",
            "dip\n",
            "she\n",
            "festoon\n",
            "our\n",
            "live\n",
            "room\n",
            "in\n",
            "green\n",
            "and\n",
            "yellow\n",
            "streamer\n",
            "the\n",
            "color\n",
            "of\n",
            "my\n",
            "new\n",
            "school\n",
            "she\n",
            "bought\n",
            "two\n",
            "dozen\n",
            "champagn\n",
            "popper\n",
            "and\n",
            "place\n",
            "them\n",
            "around\n",
            "the\n",
            "edg\n",
            "of\n",
            "our\n",
            "coffe\n",
            "tabl\n",
            "and\n",
            "when\n",
            "that\n",
            "final\n",
            "friday\n",
            "came\n",
            "when\n",
            "my\n",
            "pack\n",
            "wa\n",
            "mostli\n",
            "done\n",
            "she\n",
            "sat\n",
            "with\n",
            "my\n",
            "dad\n",
            "and\n",
            "me\n",
            "on\n",
            "the\n",
            "livingroom\n",
            "couch\n",
            "at\n",
            "aaaaaa\n",
            "pm\n",
            "and\n",
            "patient\n",
            "await\n",
            "the\n",
            "arriv\n",
            "of\n",
            "the\n",
            "goodby\n",
            "to\n",
            "mile\n",
            "cavalri\n",
            "said\n",
            "cavalri\n",
            "consist\n",
            "of\n",
            "exactli\n",
            "two\n",
            "peopl\n",
            "mari\n",
            "lawson\n",
            "a\n",
            "tini\n",
            "blond\n",
            "with\n",
            "rectangular\n",
            "glass\n",
            "and\n",
            "her\n",
            "chunki\n",
            "to\n",
            "put\n",
            "it\n",
            "charit\n",
            "boyfriend\n",
            "will\n",
            "hey\n",
            "mile\n",
            "mari\n",
            "said\n",
            "as\n",
            "she\n",
            "sat\n",
            "down\n",
            "hey\n",
            "i\n",
            "said\n",
            "how\n",
            "wa\n",
            "your\n",
            "summer\n",
            "will\n",
            "ask\n",
            "okay\n",
            "your\n",
            "good\n",
            "we\n",
            "did\n",
            "jesu\n",
            "christ\n",
            "superstar\n",
            "i\n",
            "help\n",
            "with\n",
            "the\n",
            "set\n",
            "mari\n",
            "did\n",
            "light\n",
            "said\n",
            "will\n",
            "that\n",
            "cool\n",
            "i\n",
            "nod\n",
            "knowingli\n",
            "and\n",
            "that\n",
            "about\n",
            "exhaust\n",
            "our\n",
            "convers\n",
            "topic\n",
            "i\n",
            "might\n",
            "have\n",
            "ask\n",
            "a\n",
            "question\n",
            "about\n",
            "jesu\n",
            "christ\n",
            "superstar\n",
            "except\n",
            "that\n",
            "aaa\n",
            "i\n",
            "didnt\n",
            "know\n",
            "what\n",
            "it\n",
            "wa\n",
            "and\n",
            "aaa\n",
            "i\n",
            "didnt\n",
            "care\n",
            "to\n",
            "learn\n",
            "and\n",
            "aaa\n",
            "i\n",
            "never\n",
            "realli\n",
            "excel\n",
            "at\n",
            "small\n",
            "talk\n",
            "my\n",
            "mom\n",
            "howev\n",
            "can\n",
            "talk\n",
            "small\n",
            "for\n",
            "hour\n",
            "and\n",
            "so\n",
            "she\n",
            "extend\n",
            "the\n",
            "awkward\n",
            "by\n",
            "ask\n",
            "them\n",
            "about\n",
            "their\n",
            "rehears\n",
            "schedul\n",
            "and\n",
            "how\n",
            "the\n",
            "show\n",
            "had\n",
            "gone\n",
            "and\n",
            "whether\n",
            "it\n",
            "wa\n",
            "a\n",
            "success\n",
            "i\n",
            "guess\n",
            "it\n",
            "wa\n",
            "mari\n",
            "said\n",
            "a\n",
            "lot\n",
            "of\n",
            "peopl\n",
            "came\n",
            "i\n",
            "guess\n",
            "mari\n",
            "wa\n",
            "the\n",
            "sort\n",
            "of\n",
            "person\n",
            "to\n",
            "guess\n",
            "a\n",
            "lot\n",
            "final\n",
            "will\n",
            "said\n",
            "well\n",
            "we\n",
            "just\n",
            "drop\n",
            "by\n",
            "to\n",
            "say\n",
            "goodby\n",
            "ive\n",
            "got\n",
            "to\n",
            "get\n",
            "mari\n",
            "home\n",
            "by\n",
            "six\n",
            "have\n",
            "fun\n",
            "at\n",
            "board\n",
            "school\n",
            "mile\n"
          ]
        }
      ]
    },
    {
      "cell_type": "code",
      "source": [
        "#Lemmatization\n",
        "nltk.download('wordnet')\n",
        "from nltk.stem import WordNetLemmatizer\n",
        "from nltk.tokenize import word_tokenize\n",
        "lemmatizer = WordNetLemmatizer()\n",
        "inputStrTokens = word_tokenize(inputStr)\n",
        "for token in inputStrTokens:\n",
        "  print(lemmatizer.lemmatize(token))"
      ],
      "metadata": {
        "colab": {
          "base_uri": "https://localhost:8080/"
        },
        "id": "gRr0FV3vtodT",
        "outputId": "2901ddc4-8038-43d3-bba9-961152c31abf"
      },
      "execution_count": 25,
      "outputs": [
        {
          "output_type": "stream",
          "name": "stdout",
          "text": [
            "[nltk_data] Downloading package wordnet to /root/nltk_data...\n",
            "[nltk_data]   Unzipping corpora/wordnet.zip.\n",
            "the\n",
            "week\n",
            "before\n",
            "i\n",
            "left\n",
            "my\n",
            "family\n",
            "and\n",
            "florida\n",
            "and\n",
            "the\n",
            "rest\n",
            "of\n",
            "my\n",
            "minor\n",
            "life\n",
            "to\n",
            "go\n",
            "to\n",
            "boarding\n",
            "school\n",
            "in\n",
            "alabama\n",
            "my\n",
            "mother\n",
            "insisted\n",
            "on\n",
            "throwing\n",
            "me\n",
            "a\n",
            "goingaway\n",
            "party\n",
            "to\n",
            "say\n",
            "that\n",
            "i\n",
            "had\n",
            "low\n",
            "expectation\n",
            "would\n",
            "be\n",
            "to\n",
            "underestimate\n",
            "the\n",
            "matter\n",
            "dramatically\n",
            "although\n",
            "i\n",
            "wa\n",
            "more\n",
            "or\n",
            "le\n",
            "forced\n",
            "to\n",
            "invite\n",
            "all\n",
            "my\n",
            "school\n",
            "friend\n",
            "ie\n",
            "the\n",
            "ragtag\n",
            "bunch\n",
            "of\n",
            "drama\n",
            "people\n",
            "and\n",
            "english\n",
            "geek\n",
            "i\n",
            "sat\n",
            "with\n",
            "by\n",
            "social\n",
            "necessity\n",
            "in\n",
            "the\n",
            "cavernous\n",
            "cafeteria\n",
            "of\n",
            "my\n",
            "public\n",
            "school\n",
            "i\n",
            "knew\n",
            "they\n",
            "wouldnt\n",
            "come\n",
            "still\n",
            "my\n",
            "mother\n",
            "persevered\n",
            "awash\n",
            "in\n",
            "the\n",
            "delusion\n",
            "that\n",
            "i\n",
            "had\n",
            "kept\n",
            "my\n",
            "popularity\n",
            "secret\n",
            "from\n",
            "her\n",
            "all\n",
            "these\n",
            "year\n",
            "she\n",
            "cooked\n",
            "a\n",
            "small\n",
            "mountain\n",
            "of\n",
            "artichoke\n",
            "dip\n",
            "she\n",
            "festooned\n",
            "our\n",
            "living\n",
            "room\n",
            "in\n",
            "green\n",
            "and\n",
            "yellow\n",
            "streamer\n",
            "the\n",
            "color\n",
            "of\n",
            "my\n",
            "new\n",
            "school\n",
            "she\n",
            "bought\n",
            "two\n",
            "dozen\n",
            "champagne\n",
            "popper\n",
            "and\n",
            "placed\n",
            "them\n",
            "around\n",
            "the\n",
            "edge\n",
            "of\n",
            "our\n",
            "coffee\n",
            "table\n",
            "and\n",
            "when\n",
            "that\n",
            "final\n",
            "friday\n",
            "came\n",
            "when\n",
            "my\n",
            "packing\n",
            "wa\n",
            "mostly\n",
            "done\n",
            "she\n",
            "sat\n",
            "with\n",
            "my\n",
            "dad\n",
            "and\n",
            "me\n",
            "on\n",
            "the\n",
            "livingroom\n",
            "couch\n",
            "at\n",
            "aaaaaa\n",
            "pm\n",
            "and\n",
            "patiently\n",
            "awaited\n",
            "the\n",
            "arrival\n",
            "of\n",
            "the\n",
            "goodbye\n",
            "to\n",
            "mile\n",
            "cavalry\n",
            "said\n",
            "cavalry\n",
            "consisted\n",
            "of\n",
            "exactly\n",
            "two\n",
            "people\n",
            "marie\n",
            "lawson\n",
            "a\n",
            "tiny\n",
            "blonde\n",
            "with\n",
            "rectangular\n",
            "glass\n",
            "and\n",
            "her\n",
            "chunky\n",
            "to\n",
            "put\n",
            "it\n",
            "charitably\n",
            "boyfriend\n",
            "will\n",
            "hey\n",
            "mile\n",
            "marie\n",
            "said\n",
            "a\n",
            "she\n",
            "sat\n",
            "down\n",
            "hey\n",
            "i\n",
            "said\n",
            "how\n",
            "wa\n",
            "your\n",
            "summer\n",
            "will\n",
            "asked\n",
            "okay\n",
            "yours\n",
            "good\n",
            "we\n",
            "did\n",
            "jesus\n",
            "christ\n",
            "superstar\n",
            "i\n",
            "helped\n",
            "with\n",
            "the\n",
            "set\n",
            "marie\n",
            "did\n",
            "light\n",
            "said\n",
            "will\n",
            "thats\n",
            "cool\n",
            "i\n",
            "nodded\n",
            "knowingly\n",
            "and\n",
            "that\n",
            "about\n",
            "exhausted\n",
            "our\n",
            "conversational\n",
            "topic\n",
            "i\n",
            "might\n",
            "have\n",
            "asked\n",
            "a\n",
            "question\n",
            "about\n",
            "jesus\n",
            "christ\n",
            "superstar\n",
            "except\n",
            "that\n",
            "aaa\n",
            "i\n",
            "didnt\n",
            "know\n",
            "what\n",
            "it\n",
            "wa\n",
            "and\n",
            "aaa\n",
            "i\n",
            "didnt\n",
            "care\n",
            "to\n",
            "learn\n",
            "and\n",
            "aaa\n",
            "i\n",
            "never\n",
            "really\n",
            "excelled\n",
            "at\n",
            "small\n",
            "talk\n",
            "my\n",
            "mom\n",
            "however\n",
            "can\n",
            "talk\n",
            "small\n",
            "for\n",
            "hour\n",
            "and\n",
            "so\n",
            "she\n",
            "extended\n",
            "the\n",
            "awkwardness\n",
            "by\n",
            "asking\n",
            "them\n",
            "about\n",
            "their\n",
            "rehearsal\n",
            "schedule\n",
            "and\n",
            "how\n",
            "the\n",
            "show\n",
            "had\n",
            "gone\n",
            "and\n",
            "whether\n",
            "it\n",
            "wa\n",
            "a\n",
            "success\n",
            "i\n",
            "guess\n",
            "it\n",
            "wa\n",
            "marie\n",
            "said\n",
            "a\n",
            "lot\n",
            "of\n",
            "people\n",
            "came\n",
            "i\n",
            "guess\n",
            "marie\n",
            "wa\n",
            "the\n",
            "sort\n",
            "of\n",
            "person\n",
            "to\n",
            "guess\n",
            "a\n",
            "lot\n",
            "finally\n",
            "will\n",
            "said\n",
            "well\n",
            "we\n",
            "just\n",
            "dropped\n",
            "by\n",
            "to\n",
            "say\n",
            "goodbye\n",
            "ive\n",
            "got\n",
            "to\n",
            "get\n",
            "marie\n",
            "home\n",
            "by\n",
            "six\n",
            "have\n",
            "fun\n",
            "at\n",
            "boarding\n",
            "school\n",
            "mile\n"
          ]
        }
      ]
    },
    {
      "cell_type": "code",
      "source": [
        "#POS TAGGING\n",
        "nltk.download(\"averaged_perceptron_tagger\")\n",
        "from textblob import TextBlob\n",
        "result = TextBlob(inputStr)\n",
        "print(result.tags)"
      ],
      "metadata": {
        "colab": {
          "base_uri": "https://localhost:8080/"
        },
        "id": "plW5tK_yuo1v",
        "outputId": "9666fd48-623d-4056-c40b-21a4557f5c51"
      },
      "execution_count": 26,
      "outputs": [
        {
          "output_type": "stream",
          "name": "stdout",
          "text": [
            "[nltk_data] Downloading package averaged_perceptron_tagger to\n",
            "[nltk_data]     /root/nltk_data...\n",
            "[nltk_data]   Unzipping taggers/averaged_perceptron_tagger.zip.\n",
            "[('the', 'DT'), ('week', 'NN'), ('before', 'IN'), ('i', 'NN'), ('left', 'VBD'), ('my', 'PRP$'), ('family', 'NN'), ('and', 'CC'), ('florida', 'NN'), ('and', 'CC'), ('the', 'DT'), ('rest', 'NN'), ('of', 'IN'), ('my', 'PRP$'), ('minor', 'JJ'), ('life', 'NN'), ('to', 'TO'), ('go', 'VB'), ('to', 'TO'), ('boarding', 'VBG'), ('school', 'NN'), ('in', 'IN'), ('alabama', 'NN'), ('my', 'PRP$'), ('mother', 'NN'), ('insisted', 'VBN'), ('on', 'IN'), ('throwing', 'VBG'), ('me', 'PRP'), ('a', 'DT'), ('goingaway', 'NN'), ('party', 'NN'), ('to', 'TO'), ('say', 'VB'), ('that', 'IN'), ('i', 'NN'), ('had', 'VBD'), ('low', 'JJ'), ('expectations', 'NNS'), ('would', 'MD'), ('be', 'VB'), ('to', 'TO'), ('underestimate', 'VB'), ('the', 'DT'), ('matter', 'NN'), ('dramatically', 'RB'), ('although', 'IN'), ('i', 'NN'), ('was', 'VBD'), ('more', 'RBR'), ('or', 'CC'), ('less', 'RBR'), ('forced', 'VBN'), ('to', 'TO'), ('invite', 'VB'), ('all', 'DT'), ('my', 'PRP$'), ('school', 'NN'), ('friends', 'NNS'), ('ie', 'VBP'), ('the', 'DT'), ('ragtag', 'NN'), ('bunch', 'NN'), ('of', 'IN'), ('drama', 'NN'), ('people', 'NNS'), ('and', 'CC'), ('english', 'JJ'), ('geeks', 'NNS'), ('i', 'VBP'), ('sat', 'VBN'), ('with', 'IN'), ('by', 'IN'), ('social', 'JJ'), ('necessity', 'NN'), ('in', 'IN'), ('the', 'DT'), ('cavernous', 'JJ'), ('cafeteria', 'NN'), ('of', 'IN'), ('my', 'PRP$'), ('public', 'JJ'), ('school', 'NN'), ('i', 'VBP'), ('knew', 'VBD'), ('they', 'PRP'), ('wouldnt', 'VBP'), ('come', 'VBP'), ('still', 'RB'), ('my', 'PRP$'), ('mother', 'NN'), ('persevered', 'VBD'), ('awash', 'NN'), ('in', 'IN'), ('the', 'DT'), ('delusion', 'NN'), ('that', 'IN'), ('i', 'NN'), ('had', 'VBD'), ('kept', 'VBN'), ('my', 'PRP$'), ('popularity', 'NN'), ('secret', 'NN'), ('from', 'IN'), ('her', 'PRP$'), ('all', 'PDT'), ('these', 'DT'), ('years', 'NNS'), ('she', 'PRP'), ('cooked', 'VBD'), ('a', 'DT'), ('small', 'JJ'), ('mountain', 'NN'), ('of', 'IN'), ('artichoke', 'NN'), ('dip', 'NN'), ('she', 'PRP'), ('festooned', 'VBD'), ('our', 'PRP$'), ('living', 'NN'), ('room', 'NN'), ('in', 'IN'), ('green', 'JJ'), ('and', 'CC'), ('yellow', 'JJ'), ('streamers', 'NNS'), ('the', 'DT'), ('colors', 'NNS'), ('of', 'IN'), ('my', 'PRP$'), ('new', 'JJ'), ('school', 'NN'), ('she', 'PRP'), ('bought', 'VBD'), ('two', 'CD'), ('dozen', 'NN'), ('champagne', 'NN'), ('poppers', 'NNS'), ('and', 'CC'), ('placed', 'VBD'), ('them', 'PRP'), ('around', 'RP'), ('the', 'DT'), ('edge', 'NN'), ('of', 'IN'), ('our', 'PRP$'), ('coffee', 'NN'), ('table', 'NN'), ('and', 'CC'), ('when', 'WRB'), ('that', 'DT'), ('final', 'JJ'), ('friday', 'NN'), ('came', 'VBD'), ('when', 'WRB'), ('my', 'PRP$'), ('packing', 'NN'), ('was', 'VBD'), ('mostly', 'RB'), ('done', 'VBN'), ('she', 'PRP'), ('sat', 'VBD'), ('with', 'IN'), ('my', 'PRP$'), ('dad', 'NN'), ('and', 'CC'), ('me', 'PRP'), ('on', 'IN'), ('the', 'DT'), ('livingroom', 'NN'), ('couch', 'NN'), ('at', 'IN'), ('aaaaaa', 'JJ'), ('pm', 'NN'), ('and', 'CC'), ('patiently', 'RB'), ('awaited', 'VBD'), ('the', 'DT'), ('arrival', 'NN'), ('of', 'IN'), ('the', 'DT'), ('goodbye', 'NN'), ('to', 'TO'), ('miles', 'NNS'), ('cavalry', 'NNS'), ('said', 'VBD'), ('cavalry', 'NN'), ('consisted', 'VBN'), ('of', 'IN'), ('exactly', 'RB'), ('two', 'CD'), ('people', 'NNS'), ('marie', 'VBP'), ('lawson', 'VBZ'), ('a', 'DT'), ('tiny', 'JJ'), ('blonde', 'NN'), ('with', 'IN'), ('rectangular', 'JJ'), ('glasses', 'NNS'), ('and', 'CC'), ('her', 'PRP$'), ('chunky', 'NN'), ('to', 'TO'), ('put', 'VB'), ('it', 'PRP'), ('charitably', 'RB'), ('boyfriend', 'VBP'), ('will', 'MD'), ('hey', 'VB'), ('miles', 'NNS'), ('marie', 'RB'), ('said', 'VBD'), ('as', 'IN'), ('she', 'PRP'), ('sat', 'VBD'), ('down', 'IN'), ('hey', 'NN'), ('i', 'NN'), ('said', 'VBD'), ('how', 'WRB'), ('was', 'VBD'), ('your', 'PRP$'), ('summer', 'NN'), ('will', 'MD'), ('asked', 'VB'), ('okay', 'JJ'), ('yours', 'NNS'), ('good', 'JJ'), ('we', 'PRP'), ('did', 'VBD'), ('jesus', 'VB'), ('christ', 'NN'), ('superstar', 'NN'), ('i', 'NN'), ('helped', 'VBD'), ('with', 'IN'), ('the', 'DT'), ('sets', 'NNS'), ('marie', 'VBP'), ('did', 'VBD'), ('lights', 'NNS'), ('said', 'VBD'), ('will', 'MD'), ('thats', 'VB'), ('cool', 'JJ'), ('i', 'NN'), ('nodded', 'VBD'), ('knowingly', 'RB'), ('and', 'CC'), ('that', 'IN'), ('about', 'RB'), ('exhausted', 'VBD'), ('our', 'PRP$'), ('conversational', 'JJ'), ('topics', 'NNS'), ('i', 'NN'), ('might', 'MD'), ('have', 'VB'), ('asked', 'VBN'), ('a', 'DT'), ('question', 'NN'), ('about', 'IN'), ('jesus', 'NN'), ('christ', 'NN'), ('superstar', 'NN'), ('except', 'IN'), ('that', 'DT'), ('aaa', 'NN'), ('i', 'VBZ'), ('didnt', 'VBP'), ('know', 'VB'), ('what', 'WP'), ('it', 'PRP'), ('was', 'VBD'), ('and', 'CC'), ('aaa', 'JJ'), ('i', 'NN'), ('didnt', 'NN'), ('care', 'NN'), ('to', 'TO'), ('learn', 'VB'), ('and', 'CC'), ('aaa', 'VB'), ('i', 'NN'), ('never', 'RB'), ('really', 'RB'), ('excelled', 'VBN'), ('at', 'IN'), ('small', 'JJ'), ('talk', 'NN'), ('my', 'PRP$'), ('mom', 'NN'), ('however', 'RB'), ('can', 'MD'), ('talk', 'VB'), ('small', 'JJ'), ('for', 'IN'), ('hours', 'NNS'), ('and', 'CC'), ('so', 'RB'), ('she', 'PRP'), ('extended', 'VBD'), ('the', 'DT'), ('awkwardness', 'NN'), ('by', 'IN'), ('asking', 'VBG'), ('them', 'PRP'), ('about', 'IN'), ('their', 'PRP$'), ('rehearsal', 'NN'), ('schedule', 'NN'), ('and', 'CC'), ('how', 'WRB'), ('the', 'DT'), ('show', 'NN'), ('had', 'VBD'), ('gone', 'VBN'), ('and', 'CC'), ('whether', 'IN'), ('it', 'PRP'), ('was', 'VBD'), ('a', 'DT'), ('success', 'NN'), ('i', 'NN'), ('guess', 'VBD'), ('it', 'PRP'), ('was', 'VBD'), ('marie', 'VBN'), ('said', 'VBD'), ('a', 'DT'), ('lot', 'NN'), ('of', 'IN'), ('people', 'NNS'), ('came', 'VBD'), ('i', 'JJ'), ('guess', 'NN'), ('marie', 'NN'), ('was', 'VBD'), ('the', 'DT'), ('sort', 'NN'), ('of', 'IN'), ('person', 'NN'), ('to', 'TO'), ('guess', 'VB'), ('a', 'DT'), ('lot', 'NN'), ('finally', 'RB'), ('will', 'MD'), ('said', 'VBD'), ('well', 'RB'), ('we', 'PRP'), ('just', 'RB'), ('dropped', 'VBN'), ('by', 'IN'), ('to', 'TO'), ('say', 'VB'), ('goodbye', 'JJ'), ('ive', 'JJ'), ('got', 'VBD'), ('to', 'TO'), ('get', 'VB'), ('marie', 'JJ'), ('home', 'NN'), ('by', 'IN'), ('six', 'CD'), ('have', 'VBP'), ('fun', 'VBN'), ('at', 'IN'), ('boarding', 'VBG'), ('school', 'NN'), ('miles', 'NNS')]\n"
          ]
        }
      ]
    },
    {
      "cell_type": "code",
      "source": [
        ""
      ],
      "metadata": {
        "id": "OblSSvP8vDGT"
      },
      "execution_count": null,
      "outputs": []
    }
  ]
}